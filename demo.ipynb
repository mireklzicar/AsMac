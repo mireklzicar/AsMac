{
 "cells": [
  {
   "cell_type": "code",
   "execution_count": 1,
   "metadata": {},
   "outputs": [],
   "source": [
    "from AsMac_model import AsMac\n",
    "from AsMac_utility import *\n",
    "import torch\n",
    "torch.set_printoptions(profile=\"full\")\n",
    "np.set_printoptions(precision=10)\n",
    "from torch import optim\n",
    "import time\n",
    "import os\n"
   ]
  },
  {
   "cell_type": "code",
   "execution_count": 2,
   "metadata": {},
   "outputs": [
    {
     "name": "stdout",
     "output_type": "stream",
     "text": [
      "batch matrix:\n",
      "[[0.           0.2821174952 0.2608695652 0.3155497723 0.2535211268]\n",
      " [0.2821174952 0.           0.2868167203 0.3300589391 0.2957839262]\n",
      " [0.2608695652 0.2868167203 0.           0.2626728111 0.2227424749]\n",
      " [0.3155497723 0.3300589391 0.2626728111 0.           0.2738255034]\n",
      " [0.2535211268 0.2957839262 0.2227424749 0.2738255034 0.          ]]\n",
      "batch sequences:\n",
      "GAGTTTGATCATGGCTCAGAATCAACGCTGGCGGCGCGCTTAACACATGCAAGTCGAACGAGAAAGGGGAGCAATCCCTGAGTACAGTGGCGTCCGGGTG...\n",
      "GATTATGGCTCAGGATGAACGCTAGCGGCAGGCTTAACACATGCAAGTCGCGGGGCAGCGGGGAAGGAGCTTGCTCCTTCCGCCGGCGACCGGCGCACGG...\n",
      "ATTGAACGCTGGCGGCGTGCTTAACACATGCAAGTCGAGCGAGAAAGCTCTCTTCGGAGAGTGAGTAGAGCGGCGCACGGGTGAGTAACGCGTGGATAAT...\n",
      "GATGAACGCTGGCGGCGTGCCTAATACATGCAAGTCGAGCGAACAGATAAGGAGCTTGCTCCTTTGAAGTTAGCGGCGGACGGGTGAGTAACACGTGGGT...\n",
      "GATGAACGCTGGCGGCGTGCTTAACACATGCAAGTCGAACGAACCTTCGGGTTAGTGGCGGACGGGTGAGTAACGCGTGAGAATCTGCCCTCAGGAGGGG...\n"
     ]
    }
   ],
   "source": [
    "# load data\n",
    "seq_fp = 'data/training_seq.fa'\n",
    "dist_fp = 'data/training_dist_prepared.txt'\n",
    "batch_size = 5\n",
    "\n",
    "# create data generator\n",
    "training_data = SeqDataset(seq_fp, dist_fp, batch_size)\n",
    "\n",
    "# sample random batch matrix and sequence list\n",
    "for (seq_list, dist_m) in training_data:\n",
    "    print('batch matrix:')\n",
    "    print(dist_m)\n",
    "    print('batch sequences:')\n",
    "    for seq in seq_list:\n",
    "        print(seq[0:100] + '...')\n",
    "    break\n"
   ]
  },
  {
   "cell_type": "code",
   "execution_count": 3,
   "metadata": {},
   "outputs": [
    {
     "name": "stdout",
     "output_type": "stream",
     "text": [
      "AsMac(\n",
      "(weight): SoftNW1d(4, 300, kernel_size=20)\n",
      ")\n"
     ]
    }
   ],
   "source": [
    "# define model\n",
    "embed_dim = 300 # number of kernel sequences\n",
    "kernel_size = 20 # kernel length\n",
    "learning_rate=1e-3 # learning rate\n",
    "\n",
    "# check and make model save dir\n",
    "if not os.path.exists('result'):\n",
    "    os.makedirs('result')\n",
    "\n",
    "# initialize EINN object\n",
    "net = AsMac(4, embed_dim, kernel_size)\n",
    "print(net)\n"
   ]
  },
  {
   "cell_type": "code",
   "execution_count": 4,
   "metadata": {},
   "outputs": [
    {
     "name": "stdout",
     "output_type": "stream",
     "text": [
      "cost  0h: 0m:51s done 100 batches. train running loss: 5.280e-02 \n",
      "running model saved\n",
      "cost  0h: 1m:43s done 200 batches. train running loss: 4.597e-02 \n",
      "running model saved\n",
      "cost  0h: 2m:35s done 300 batches. train running loss: 2.392e-02 \n",
      "running model saved\n",
      "cost  0h: 3m:26s done 400 batches. train running loss: 2.639e-03 \n",
      "running model saved\n",
      "cost  0h: 4m:17s done 500 batches. train running loss: 1.619e-03 \n",
      "running model saved\n",
      "cost  0h: 5m: 9s done 600 batches. train running loss: 8.861e-04 \n",
      "running model saved\n",
      "cost  0h: 6m: 0s done 700 batches. train running loss: 6.699e-04 \n",
      "running model saved\n",
      "cost  0h: 6m:52s done 800 batches. train running loss: 6.680e-04 \n",
      "running model saved\n",
      "cost  0h: 7m:43s done 900 batches. train running loss: 6.142e-04 \n",
      "running model saved\n",
      "cost  0h: 8m:35s done 1000 batches. train running loss: 4.574e-04 \n",
      "running model saved\n",
      "model saved\n"
     ]
    }
   ],
   "source": [
    "# training\n",
    "optimizer = optim.Adam(net.parameters(), lr=learning_rate, weight_decay=0)\n",
    "criterion = MSELoss()\n",
    "max_iter = 1000\n",
    "save_iter = 100\n",
    "running_cnt = 0\n",
    "train_running_loss = 0\n",
    "start = time.time()\n",
    "for i, (seq_list, dist_m) in enumerate(training_data, 1):\n",
    "    \n",
    "    # convert nucleotides sequence to one-hot sequence\n",
    "    seq_oh = one_hot(seq_list)\n",
    "    predict_m = net(seq_oh) # prediction of AsMac\n",
    "    dist_m = torch.Tensor(dist_m) # true alignment distance\n",
    "    train_loss = criterion(predict_m, dist_m) # MSE loss\n",
    "    train_running_loss += train_loss.data.item()\n",
    "            \n",
    "    optimizer.zero_grad()\n",
    "    train_loss.backward()\n",
    "    optimizer.step()\n",
    "    \n",
    "    running_cnt += 1\n",
    "            \n",
    "    if i % 10 == 0:\n",
    "        t_record = time.time() - start\n",
    "        batch_mean_loss = train_running_loss / running_cnt\n",
    "        print('\\rcost ' + time_cost(t_record) + ' done ' + str(i) + ' batches. train running loss: ' + ('%4.3e' % batch_mean_loss), end=' ')\n",
    "        \n",
    "    if i % save_iter == 0:\n",
    "        print('\\nrunning model saved')\n",
    "        torch.save(net.state_dict(), 'result/demo_running.pt')\n",
    "        train_running_loss = 0\n",
    "        running_cnt = 0\n",
    "    \n",
    "    if i >= max_iter:\n",
    "        torch.save(net.state_dict(), 'result/demo_finished.pt')\n",
    "        print('model saved')\n",
    "        break"
   ]
  },
  {
   "cell_type": "code",
   "execution_count": 5,
   "metadata": {},
   "outputs": [],
   "source": [
    "# define testing function\n",
    "def test(net, seq_fp, dist_fp):\n",
    "    \n",
    "    start = time.time() # tic\n",
    "    \n",
    "    test_data = SeqDataset(seq_fp, dist_fp, 10) # load data by initialize data generator\n",
    "    seq_list = test_data.seq_list # list of sequences\n",
    "    dist_m = test_data.M # true alignment distance matrix\n",
    "    l = test_data.cnt # number of sequences, size of the full matrix\n",
    "\n",
    "    seq_oh = one_hot(seq_list) # convert to one-hot\n",
    "    predictions = net.test_forward(seq_oh).detach().numpy().astype(np.float64)\n",
    "    dif_matrix = np.abs(predictions - dist_m)\n",
    "\n",
    "    np.fill_diagonal(dist_m, 1) # fill diagnal to avoid divided-by-zero error\n",
    "    mre = np.sum(np.divide(dif_matrix, dist_m)) / (pow(l, 2)-l)\n",
    "\n",
    "    end = time.time() # toc\n",
    "    print('mre: %4.2f%%, test time: %4.2fs' % (100*mre, (end - start)))\n",
    "\n",
    "    # reshape upper triangle to list\n",
    "    predictions = predictions[np.triu_indices(l, k = 1)]\n",
    "    dists = dist_m[np.triu_indices(l, k = 1)]\n",
    "\n",
    "    return predictions, dists, mre, (end - start)"
   ]
  },
  {
   "cell_type": "code",
   "execution_count": 6,
   "metadata": {},
   "outputs": [
    {
     "name": "stdout",
     "output_type": "stream",
     "text": [
      "mre: 3.64%, test time: 43.15s\n"
     ]
    },
    {
     "data": {
      "image/png": "[encoded data removed]",
      "text/plain": [
       "<Figure size 432x432 with 2 Axes>"
      ]
     },
     "metadata": {
      "needs_background": "light"
     },
     "output_type": "display_data"
    },
    {
     "name": "stdout",
     "output_type": "stream",
     "text": [
      "plot_saved\n"
     ]
    }
   ],
   "source": [
    "# testing\n",
    "seq_fp = 'data/testing_seq.fa'\n",
    "dist_fp = 'data/testing_dist_prepared.txt'\n",
    "plot_sp = 'testing_scatter.png'\n",
    "\n",
    "# load sufficiently trained weight for AsMac\n",
    "net_state_dict = torch.load('model/16S-full.pt')\n",
    "net.load_state_dict(net_state_dict)\n",
    "\n",
    "predictions, dists, mre, t_cost = test(net, seq_fp, dist_fp)\n",
    "\n",
    "# plot the scatter\n",
    "my_plot(dists, predictions, plot_sp)"
   ]
  },
  {
   "cell_type": "code",
   "execution_count": null,
   "metadata": {},
   "outputs": [],
   "source": []
  }
 ],
 "metadata": {
  "kernelspec": {
   "display_name": "Python 3 (ipykernel)",
   "language": "python",
   "name": "python3"
  },
  "language_info": {
   "codemirror_mode": {
    "name": "ipython",
    "version": 3
   },
   "file_extension": ".py",
   "mimetype": "text/x-python",
   "name": "python",
   "nbconvert_exporter": "python",
   "pygments_lexer": "ipython3",
   "version": "3.9.10"
  }
 },
 "nbformat": 4,
 "nbformat_minor": 4
}
